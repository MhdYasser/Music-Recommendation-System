{
 "cells": [
  {
   "cell_type": "code",
   "execution_count": 1,
   "id": "falling-working",
   "metadata": {},
   "outputs": [],
   "source": [
    "import ipywidgets as widgets\n",
    "import pandas as pd\n",
    "import numpy as np\n",
    "from ipywidgets import interact, interactive, fixed, interact_manual \n",
    "from experta import *"
   ]
  },
  {
   "cell_type": "code",
   "execution_count": 2,
   "id": "center-partition",
   "metadata": {},
   "outputs": [],
   "source": [
    "ArtistD_df=pd.read_csv('./Artists In Production 1.csv')\n",
    "Track_df=pd.read_csv('./Track In Production 1.csv')\n",
    "genres_df=pd.read_csv('./Genre In Production.csv')"
   ]
  },
  {
   "cell_type": "code",
   "execution_count": 3,
   "id": "choice-joseph",
   "metadata": {},
   "outputs": [],
   "source": [
    "Track_df['rate']=0"
   ]
  },
  {
   "cell_type": "code",
   "execution_count": 4,
   "id": "liked-station",
   "metadata": {},
   "outputs": [],
   "source": [
    "pd.set_option('expand_frame_repr', False)"
   ]
  },
  {
   "cell_type": "code",
   "execution_count": 5,
   "id": "fiscal-video",
   "metadata": {},
   "outputs": [],
   "source": [
    "class Artist(Fact):\n",
    "    pass\n",
    "class Track(Fact):\n",
    "    pass\n",
    "class Age(Fact):\n",
    "    pass"
   ]
  },
  {
   "cell_type": "code",
   "execution_count": 8,
   "id": "advanced-depth",
   "metadata": {},
   "outputs": [],
   "source": [
    "class MyKnowladge(KnowledgeEngine):\n",
    "    \n",
    "    track_df=Track_df\n",
    "    x = ArtistD_df\n",
    "\n",
    "    @Rule(NOT(Artist(W())))\n",
    "    def wantArtist(self):\n",
    "        self.declare(Artist(option =input('1-Choose a specific artist\\n2-Skip to the track\\n3-Ask about the artist then the track\\n')))\n",
    "    \n",
    "    \n",
    "    \n",
    "    @Rule(Artist(option=\"1\"))\n",
    "    def askArtistName(self):\n",
    "        self.name=input(\"What is the artist's name?\\n\")\n",
    "        self.declare(Artist(Name=self.name))\n",
    "        Track_df['rate'] = np.where(Track_df['solo'].apply(lambda x: self.name in x), Track_df['rate']+100, Track_df['rate'])\n",
    "        #print(Track_df[['Track_name','solo','rate']].sort_values([\"rate\"], ascending= False).head(20))\n",
    "        \n",
    "        \n",
    "        \n",
    "    @Rule(Artist(Name=W())| Artist(option =\"2\")|Artist(Energy=W()))\n",
    "    def askActivity(self):\n",
    "        dropdown = widgets.Dropdown(options = ['Partying', 'Playing Games','Playing Sport' ,'Studying',  'Working' , 'Driving','Walking' , 'Sleeping'],description='Activity:')\n",
    "        display(dropdown)\n",
    "        self.Activity=input(\"What are you doing?\\n\")\n",
    "        dropdown.layout.display = 'none'\n",
    "        self.declare(Track(Activity=self.Activity))\n",
    "        Track_df['rate'] = np.where((Track_df['activity'].apply(lambda x: self.Activity in x)), Track_df['rate']+1, Track_df['rate'])\n",
    "        #print(Track_df[['Track_name','solo','rate']].sort_values([\"rate\"], ascending= False).head(20))\n",
    "        \n",
    "        \n",
    "        \n",
    "    @Rule(Track(Activity=W()))\n",
    "    def askmood(self):\n",
    "        dropdown = widgets.Dropdown(options =    ['Happy', 'Sad', 'Stressed', 'Cheerful' ,'Angry', 'Contentment', 'Calm' ,'Romantic'],description='Mood:')\n",
    "        display(dropdown)\n",
    "        self.Mood=input(\"How are you feeling?\\n\")\n",
    "        dropdown.layout.display = 'none'\n",
    "        self.declare(Track(Mood=self.Mood))\n",
    "        Track_df['rate'] = np.where(Track_df['mood'].apply(lambda x: self.Mood in x), Track_df['rate']+1, Track_df['rate'])\n",
    "        #print(Track_df[['Track_name','solo','rate']].sort_values([\"rate\"], ascending= False).head(20))\n",
    " \n",
    "\n",
    "\n",
    "    @Rule(Track(Mood=W()))\n",
    "    def askFavsong(self):\n",
    "        self.Favsong=input(\"Do you have a favourite song, if so what is it?\\n(no , name of the song)\\n\")\n",
    "        self.declare(Track(Favsong=self.Favsong))\n",
    "        self.s=100\n",
    "        if self.Favsong=='no':\n",
    "                return\n",
    "        try:\n",
    "            self.s=int(Track_df[['Track_name','cluster_song_label']].loc[Track_df['Track_name']==self.Favsong].cluster_song_label.values[0])\n",
    "        except:\n",
    "            print(\"\\n Couldnt find the song \\n\")\n",
    "        self.declare(Track(Favsong=self.s))\n",
    "        Track_df['rate'] = np.where((Track_df['cluster_song_label'] ==self.s), Track_df['rate']+1, Track_df['rate'])\n",
    "        #print(Track_df.sort_values([\"rate\"], ascending= False).head(10))\n",
    "        \n",
    "        \n",
    "        \n",
    "    @Rule(Track(Favsong=W()))\n",
    "    def askGenre(self):\n",
    "        dropdown = widgets.Dropdown(options =sorted(genres_df.genres.unique()))\n",
    "        display(dropdown)\n",
    "        self.genre=input(\"What is your favourite genre?\\n\")\n",
    "        dropdown.layout.display = 'none'\n",
    "        self.declare(Track(Genre=self.genre))\n",
    "        Track_df['rate'] = np.where(Track_df['genres'].apply(lambda x: self.genre in x), Track_df['rate']+1, Track_df['rate'])\n",
    "        #print(Track_df[['Track_name','solo','rate']].sort_values([\"rate\"], ascending= False).head(20))\n",
    "    \n",
    "    \n",
    "    \n",
    "    @Rule(Track(Genre=W()))\n",
    "    def askInstrument(self):\n",
    "        self.instrument=input(\"Do you like instrument sounds?\\n(yes , no)\\n\")\n",
    "        self.declare(Track(Instrument=self.instrument))\n",
    "        if self.instrument=='no':\n",
    "            Track_df['rate'] = np.where((Track_df['Track_instrumentalness_perc'].apply(lambda x: 'Very Low' in x))\n",
    "                                            |(Track_df['Track_instrumentalness_perc'].apply(lambda x: 'Low' in x))\n",
    "                                            |(Track_df['Track_instrumentalness_perc'].apply(lambda x: 'Average' in x)), Track_df['rate']+1, Track_df['rate'])\n",
    "        if self.instrument=='yes':\n",
    "            Track_df['rate'] = np.where((Track_df['Track_instrumentalness_perc'].apply(lambda x: 'Very High' in x))\n",
    "                                            |(Track_df['Track_instrumentalness_perc'].apply(lambda x: 'High' in x))\n",
    "                                            |(Track_df['Track_instrumentalness_perc'].apply(lambda x: 'Average' in x)), Track_df['rate']+1, Track_df['rate'])\n",
    "        #print(Track_df[['Track_name','solo','rate']].sort_values([\"rate\"], ascending= False).head(20))    \n",
    "    \n",
    "    \n",
    "    \n",
    "    @Rule(Track(Instrument=W()))\n",
    "    def askAcousticness(self):\n",
    "        self.acous=input(\"Do you enjoy acoustic songs?\\n(yes , no)\\n\")\n",
    "        self.declare(Track(Acousticness=self.acous))\n",
    "        if self.acous=='no':\n",
    "                Track_df['rate'] = np.where((Track_df['Track_acousticness_perc'].apply(lambda x: 'Very Low' in x))\n",
    "                                            |(Track_df['Track_acousticness_perc'].apply(lambda x: 'Low' in x))\n",
    "                                            |(Track_df['Track_acousticness_perc'].apply(lambda x: 'Average' in x)), Track_df['rate']+1, Track_df['rate'])\n",
    "        #print(Track_df[['Track_name','solo','rate']].sort_values([\"rate\"], ascending= False).head(20))\n",
    "\n",
    "        \n",
    "        \n",
    "    \n",
    "    @Rule(Track(Acousticness=W()))\n",
    "    def askPopularity(self):\n",
    "        self.popularity=input(\"Do you want popular songs?\\n(yes , no)\\n\")\n",
    "        self.declare(Track(Popularity=self.popularity))\n",
    "        if self.popularity=='yes':\n",
    "            Track_df['rate'] = np.where((Track_df['Popularity_perc'].apply(lambda x: 'Very High' in x))\n",
    "                                            |(Track_df['Popularity_perc'].apply(lambda x: 'High' in x)), Track_df['rate']+1, Track_df['rate'])\n",
    "        if self.popularity=='no':\n",
    "            Track_df['rate'] = np.where((Track_df['Popularity_perc'].apply(lambda x: 'Very Low' in x))\n",
    "                                            |(Track_df['Popularity_perc'].apply(lambda x: 'Low' in x))\n",
    "                                            |(Track_df['Popularity_perc'].apply(lambda x: 'Average' in x)), Track_df['rate']+1, Track_df['rate'])\n",
    "        #print(Track_df[['Track_name','solo','rate']].sort_values([\"rate\"], ascending= False).head(20))\n",
    "        \n",
    "    \n",
    "    \n",
    "    @Rule(Track(Popularity=W()))\n",
    "    def askReleaseDate(self):\n",
    "        self.release=input(\"Do you prefer old or new songs?\\n(old , new)\\n\")\n",
    "        self.declare(Track(ReleaseDate=self.release))\n",
    "        if self.release=='new':\n",
    "            Track_df['rate'] = np.where(Track_df.year > 2010, Track_df['rate']+1, Track_df['rate'])\n",
    "        if self.release=='old':\n",
    "            Track_df['rate'] = np.where(Track_df.year < 2010, Track_df['rate']+1, Track_df['rate'])\n",
    "        #print(Track_df[['Track_name','solo','rate','explicit']].sort_values([\"rate\"], ascending= False).head(20))\n",
    "    \n",
    "    \n",
    "    \n",
    "    @Rule(Track(ReleaseDate=W()))\n",
    "    def askAge(self):\n",
    "        self.age=input(\"How old are you?\\n\")\n",
    "        self.declare(Track(Explicit=self.age))\n",
    "        \n",
    "        if int(self.age)<13 :\n",
    "            Track_df['rate'] = np.where(Track_df.explicit ==1, Track_df['rate']-10, Track_df['rate'])\n",
    "        print(Track_df[['Track_name','solo','rate',\"Popularity_perc\"]].sort_values([\"rate\",\"Popularity_perc\"], ascending= False).head(20))\n",
    "\n",
    "        \n",
    "\n",
    "    @Rule(Artist(option =\"3\"))\n",
    "    def askForFavArtist(self):\n",
    "        self.FavArtist=input(\"Who is your favourite artist?\\n\")\n",
    "        self.s=100\n",
    "        try:\n",
    "            self.s=int(ArtistD_df[['artists','cluster_artists_label']].loc[ArtistD_df['artists']==self.FavArtist].cluster_artists_label.values[0])\n",
    "        except:\n",
    "            print(\"\\n Couldnt find the artist \\n\")\n",
    "        self.declare(Artist(Fav=self.s))\n",
    "        Track_df['rate'] = np.where(Track_df['cluster_song_label']==self.s, Track_df['rate']+1, Track_df['rate'])\n",
    "        #print(Track_df[['Track_name','solo','rate']].sort_values([\"rate\"], ascending= False).head(20))\n",
    "    \n",
    "    \n",
    "    \n",
    "    @Rule(Artist(Fav=W()))\n",
    "    def askPopularityForArtist(self):\n",
    "        self.popularity=input(\"Do you want popular artists?\\n(yes , no)\\n\")\n",
    "        self.declare(Artist(Popularity=self.popularity))\n",
    "        if self.popularity=='yes':\n",
    "            Track_df['rate'] = np.where((Track_df['popularity_perc'].apply(lambda x: 'Very High' in x))\n",
    "                                            |(Track_df['popularity_perc'].apply(lambda x: 'High' in x))\n",
    "                                            |(Track_df['popularity_perc'].apply(lambda x: 'Average' in x)), Track_df['rate']+1, Track_df['rate'])\n",
    "        if self.popularity=='no':\n",
    "            Track_df['rate'] = np.where((Track_df['popularity_perc'].apply(lambda x: 'Very Low' in x))\n",
    "                                            |(Track_df['popularity_perc'].apply(lambda x: 'Low' in x))\n",
    "                                            |(Track_df['popularity_perc'].apply(lambda x: 'Average' in x)), Track_df['rate']+1, Track_df['rate'])\n",
    "        #print(Track_df[['Track_name','solo','rate']].sort_values([\"rate\"], ascending= False).head(20))\n",
    "    \n",
    "    \n",
    "    \n",
    "    @Rule(Artist(Popularity=W()))\n",
    "    def askGenreForArtist(self):\n",
    "        dropdown = widgets.Dropdown(options =    sorted(genres_df.genres.unique()))\n",
    "        display(dropdown)\n",
    "        self.genreArtist=input(\"What genre do u prefer the artist to be?\\n\")\n",
    "        dropdown.layout.display = 'none'\n",
    "        self.declare(Artist(Genre=self.genreArtist))\n",
    "        Track_df['rate'] = np.where(Track_df['genres'].apply(lambda x: self.genreArtist in x), Track_df['rate']+1, Track_df['rate'])\n",
    "        #print(Track_df[['Track_name','solo','rate']].sort_values([\"rate\"], ascending= False).head(20))\n",
    "    \n",
    "    \n",
    "    \n",
    "    @Rule(Artist(Genre=W()))\n",
    "    def askEnergeticForArtist(self):\n",
    "        self.energyArtist=input(\"Do you prefer energetic artists?\\n(yes , no)\\n\")\n",
    "        self.declare(Artist(Energy=self.energyArtist))\n",
    "        if self.energyArtist=='yes':\n",
    "            Track_df['rate'] = np.where((Track_df['energy_perc'].apply(lambda x: 'Very High' in x))\n",
    "                                            |(Track_df['energy_perc'].apply(lambda x: 'High' in x))\n",
    "                                            |(Track_df['energy_perc'].apply(lambda x: 'Average' in x)), Track_df['rate']+1, Track_df['rate'])\n",
    "        if self.energyArtist=='no':\n",
    "            Track_df['rate'] = np.where((Track_df['energy_perc'].apply(lambda x: 'Very Low' in x))\n",
    "                                            |(Track_df['energy_perc'].apply(lambda x: 'Low' in x))\n",
    "                                            |(Track_df['energy_perc'].apply(lambda x: 'Average' in x)), Track_df['rate']+1, Track_df['rate'])\n",
    "        #print(Track_df[['Track_name','solo','rate']].sort_values([\"rate\"], ascending= False).head(20))   "
   ]
  },
  {
   "cell_type": "code",
   "execution_count": 9,
   "id": "durable-twins",
   "metadata": {
    "scrolled": true
   },
   "outputs": [
    {
     "name": "stdout",
     "output_type": "stream",
     "text": [
      "1-Choose a specific artist\n",
      "2-Skip to the track\n",
      "3-Ask about the artist then the track\n",
      "2\n"
     ]
    },
    {
     "data": {
      "application/vnd.jupyter.widget-view+json": {
       "model_id": "e137854a34ac4a7fb939637068261555",
       "version_major": 2,
       "version_minor": 0
      },
      "text/plain": [
       "Dropdown(description='Activity:', options=('Partying', 'Playing Games', 'Playing Sport', 'Studying', 'Working'…"
      ]
     },
     "metadata": {},
     "output_type": "display_data"
    },
    {
     "name": "stdout",
     "output_type": "stream",
     "text": [
      "What are you doing?\n",
      "w\n"
     ]
    },
    {
     "data": {
      "application/vnd.jupyter.widget-view+json": {
       "model_id": "0c289fe5ad6648f4a1c4e849de47076c",
       "version_major": 2,
       "version_minor": 0
      },
      "text/plain": [
       "Dropdown(description='Mood:', options=('Happy', 'Sad', 'Stressed', 'Cheerful', 'Angry', 'Contentment', 'Calm',…"
      ]
     },
     "metadata": {},
     "output_type": "display_data"
    },
    {
     "name": "stdout",
     "output_type": "stream",
     "text": [
      "How are you feeling?\n",
      "w\n",
      "Do you have a favourite song, if so what is it?\n",
      "(no , name of the song)\n",
      "w\n",
      "\n",
      " Couldnt find the song \n",
      "\n"
     ]
    },
    {
     "data": {
      "application/vnd.jupyter.widget-view+json": {
       "model_id": "c4f9c04e8d84443296d491793698434d",
       "version_major": 2,
       "version_minor": 0
      },
      "text/plain": [
       "Dropdown(options=('21st century classical', '432hz', '8-bit', '[]', 'a cappella', 'abstract', 'abstract beats'…"
      ]
     },
     "metadata": {},
     "output_type": "display_data"
    },
    {
     "name": "stdout",
     "output_type": "stream",
     "text": [
      "What is your favourite genre?\n",
      "w\n",
      "Do you like instrument sounds?\n",
      "(yes , no)\n",
      "yes\n",
      "Do you enjoy acoustic songs?\n",
      "(yes , no)\n",
      "yes\n",
      "Do you want popular songs?\n",
      "(yes , no)\n",
      "yes\n",
      "Do you prefer old or new songs?\n",
      "(old , new)\n",
      "new\n",
      "How old are you?\n",
      "15\n"
     ]
    },
    {
     "ename": "KeyError",
     "evalue": "'rate'",
     "output_type": "error",
     "traceback": [
      "\u001b[1;31m---------------------------------------------------------------------------\u001b[0m",
      "\u001b[1;31mKeyError\u001b[0m                                  Traceback (most recent call last)",
      "\u001b[1;32m<ipython-input-9-a594aa1b79ea>\u001b[0m in \u001b[0;36m<module>\u001b[1;34m\u001b[0m\n\u001b[0;32m      2\u001b[0m \u001b[0mengine\u001b[0m \u001b[1;33m=\u001b[0m \u001b[0mMyKnowladge\u001b[0m\u001b[1;33m(\u001b[0m\u001b[1;33m)\u001b[0m\u001b[1;33m\u001b[0m\u001b[1;33m\u001b[0m\u001b[0m\n\u001b[0;32m      3\u001b[0m \u001b[0mengine\u001b[0m\u001b[1;33m.\u001b[0m\u001b[0mreset\u001b[0m\u001b[1;33m(\u001b[0m\u001b[1;33m)\u001b[0m\u001b[1;33m\u001b[0m\u001b[1;33m\u001b[0m\u001b[0m\n\u001b[1;32m----> 4\u001b[1;33m \u001b[0mengine\u001b[0m\u001b[1;33m.\u001b[0m\u001b[0mrun\u001b[0m\u001b[1;33m(\u001b[0m\u001b[1;33m)\u001b[0m\u001b[1;33m\u001b[0m\u001b[1;33m\u001b[0m\u001b[0m\n\u001b[0m",
      "\u001b[1;32m~\\anaconda3\\envs\\GPU_ENVI\\lib\\site-packages\\experta\\engine.py\u001b[0m in \u001b[0;36mrun\u001b[1;34m(self, steps)\u001b[0m\n\u001b[0;32m    166\u001b[0m                     \u001b[0mself\u001b[0m\u001b[1;33m,\u001b[0m\u001b[1;33m\u001b[0m\u001b[1;33m\u001b[0m\u001b[0m\n\u001b[0;32m    167\u001b[0m                     **{k: v\n\u001b[1;32m--> 168\u001b[1;33m                        \u001b[1;32mfor\u001b[0m \u001b[0mk\u001b[0m\u001b[1;33m,\u001b[0m \u001b[0mv\u001b[0m \u001b[1;32min\u001b[0m \u001b[0mactivation\u001b[0m\u001b[1;33m.\u001b[0m\u001b[0mcontext\u001b[0m\u001b[1;33m.\u001b[0m\u001b[0mitems\u001b[0m\u001b[1;33m(\u001b[0m\u001b[1;33m)\u001b[0m\u001b[1;33m\u001b[0m\u001b[1;33m\u001b[0m\u001b[0m\n\u001b[0m\u001b[0;32m    169\u001b[0m                        if not k.startswith('__')})\n\u001b[0;32m    170\u001b[0m \u001b[1;33m\u001b[0m\u001b[0m\n",
      "\u001b[1;32m~\\anaconda3\\envs\\GPU_ENVI\\lib\\site-packages\\experta\\rule.py\u001b[0m in \u001b[0;36m__call__\u001b[1;34m(self, *args, **kwargs)\u001b[0m\n\u001b[0;32m     85\u001b[0m                           if k in self._wrapped_args}\n\u001b[0;32m     86\u001b[0m             \u001b[1;32mif\u001b[0m \u001b[0mself\u001b[0m\u001b[1;33m.\u001b[0m\u001b[0m_wrapped_self\u001b[0m \u001b[1;32mis\u001b[0m \u001b[1;32mNone\u001b[0m\u001b[1;33m:\u001b[0m\u001b[1;33m\u001b[0m\u001b[1;33m\u001b[0m\u001b[0m\n\u001b[1;32m---> 87\u001b[1;33m                 \u001b[1;32mreturn\u001b[0m \u001b[0mself\u001b[0m\u001b[1;33m.\u001b[0m\u001b[0m_wrapped\u001b[0m\u001b[1;33m(\u001b[0m\u001b[1;33m*\u001b[0m\u001b[0margs\u001b[0m\u001b[1;33m,\u001b[0m \u001b[1;33m**\u001b[0m\u001b[0mkwargs\u001b[0m\u001b[1;33m)\u001b[0m\u001b[1;33m\u001b[0m\u001b[1;33m\u001b[0m\u001b[0m\n\u001b[0m\u001b[0;32m     88\u001b[0m             \u001b[1;32melse\u001b[0m\u001b[1;33m:\u001b[0m\u001b[1;33m\u001b[0m\u001b[1;33m\u001b[0m\u001b[0m\n\u001b[0;32m     89\u001b[0m                 \u001b[1;32mreturn\u001b[0m \u001b[0mself\u001b[0m\u001b[1;33m.\u001b[0m\u001b[0m_wrapped\u001b[0m\u001b[1;33m(\u001b[0m\u001b[0mself\u001b[0m\u001b[1;33m.\u001b[0m\u001b[0m_wrapped_self\u001b[0m\u001b[1;33m,\u001b[0m \u001b[1;33m*\u001b[0m\u001b[0margs\u001b[0m\u001b[1;33m,\u001b[0m \u001b[1;33m**\u001b[0m\u001b[0mkwargs\u001b[0m\u001b[1;33m)\u001b[0m\u001b[1;33m\u001b[0m\u001b[1;33m\u001b[0m\u001b[0m\n",
      "\u001b[1;32m<ipython-input-8-4684df39a5bb>\u001b[0m in \u001b[0;36maskAge\u001b[1;34m(self)\u001b[0m\n\u001b[0;32m    135\u001b[0m         \u001b[1;32mif\u001b[0m \u001b[0mint\u001b[0m\u001b[1;33m(\u001b[0m\u001b[0mself\u001b[0m\u001b[1;33m.\u001b[0m\u001b[0mage\u001b[0m\u001b[1;33m)\u001b[0m\u001b[1;33m<\u001b[0m\u001b[1;36m13\u001b[0m \u001b[1;33m:\u001b[0m\u001b[1;33m\u001b[0m\u001b[1;33m\u001b[0m\u001b[0m\n\u001b[0;32m    136\u001b[0m             \u001b[0mTrack_df\u001b[0m\u001b[1;33m[\u001b[0m\u001b[1;34m'rate'\u001b[0m\u001b[1;33m]\u001b[0m \u001b[1;33m=\u001b[0m \u001b[0mnp\u001b[0m\u001b[1;33m.\u001b[0m\u001b[0mwhere\u001b[0m\u001b[1;33m(\u001b[0m\u001b[0mTrack_df\u001b[0m\u001b[1;33m.\u001b[0m\u001b[0mexplicit\u001b[0m \u001b[1;33m==\u001b[0m\u001b[1;36m1\u001b[0m\u001b[1;33m,\u001b[0m \u001b[0mTrack_df\u001b[0m\u001b[1;33m[\u001b[0m\u001b[1;34m'rate'\u001b[0m\u001b[1;33m]\u001b[0m\u001b[1;33m-\u001b[0m\u001b[1;36m10\u001b[0m\u001b[1;33m,\u001b[0m \u001b[0mTrack_df\u001b[0m\u001b[1;33m[\u001b[0m\u001b[1;34m'rate'\u001b[0m\u001b[1;33m]\u001b[0m\u001b[1;33m)\u001b[0m\u001b[1;33m\u001b[0m\u001b[1;33m\u001b[0m\u001b[0m\n\u001b[1;32m--> 137\u001b[1;33m         \u001b[0mprint\u001b[0m\u001b[1;33m(\u001b[0m\u001b[0mTrack_df\u001b[0m\u001b[1;33m[\u001b[0m\u001b[1;33m[\u001b[0m\u001b[1;34m'Track_name'\u001b[0m\u001b[1;33m,\u001b[0m\u001b[1;34m'solo'\u001b[0m\u001b[1;33m,\u001b[0m\u001b[1;34m\"Popularity_perc\"\u001b[0m\u001b[1;33m]\u001b[0m\u001b[1;33m]\u001b[0m\u001b[1;33m.\u001b[0m\u001b[0msort_values\u001b[0m\u001b[1;33m(\u001b[0m\u001b[1;33m[\u001b[0m\u001b[1;34m\"rate\"\u001b[0m\u001b[1;33m,\u001b[0m\u001b[1;34m\"Popularity_perc\"\u001b[0m\u001b[1;33m]\u001b[0m\u001b[1;33m,\u001b[0m \u001b[0mascending\u001b[0m\u001b[1;33m=\u001b[0m \u001b[1;32mFalse\u001b[0m\u001b[1;33m)\u001b[0m\u001b[1;33m.\u001b[0m\u001b[0mhead\u001b[0m\u001b[1;33m(\u001b[0m\u001b[1;36m20\u001b[0m\u001b[1;33m)\u001b[0m\u001b[1;33m)\u001b[0m\u001b[1;33m\u001b[0m\u001b[1;33m\u001b[0m\u001b[0m\n\u001b[0m\u001b[0;32m    138\u001b[0m \u001b[1;33m\u001b[0m\u001b[0m\n\u001b[0;32m    139\u001b[0m \u001b[1;33m\u001b[0m\u001b[0m\n",
      "\u001b[1;32m~\\anaconda3\\envs\\GPU_ENVI\\lib\\site-packages\\pandas\\core\\frame.py\u001b[0m in \u001b[0;36msort_values\u001b[1;34m(self, by, axis, ascending, inplace, kind, na_position, ignore_index, key)\u001b[0m\n\u001b[0;32m   5282\u001b[0m             \u001b[1;32mfrom\u001b[0m \u001b[0mpandas\u001b[0m\u001b[1;33m.\u001b[0m\u001b[0mcore\u001b[0m\u001b[1;33m.\u001b[0m\u001b[0msorting\u001b[0m \u001b[1;32mimport\u001b[0m \u001b[0mlexsort_indexer\u001b[0m\u001b[1;33m\u001b[0m\u001b[1;33m\u001b[0m\u001b[0m\n\u001b[0;32m   5283\u001b[0m \u001b[1;33m\u001b[0m\u001b[0m\n\u001b[1;32m-> 5284\u001b[1;33m             \u001b[0mkeys\u001b[0m \u001b[1;33m=\u001b[0m \u001b[1;33m[\u001b[0m\u001b[0mself\u001b[0m\u001b[1;33m.\u001b[0m\u001b[0m_get_label_or_level_values\u001b[0m\u001b[1;33m(\u001b[0m\u001b[0mx\u001b[0m\u001b[1;33m,\u001b[0m \u001b[0maxis\u001b[0m\u001b[1;33m=\u001b[0m\u001b[0maxis\u001b[0m\u001b[1;33m)\u001b[0m \u001b[1;32mfor\u001b[0m \u001b[0mx\u001b[0m \u001b[1;32min\u001b[0m \u001b[0mby\u001b[0m\u001b[1;33m]\u001b[0m\u001b[1;33m\u001b[0m\u001b[1;33m\u001b[0m\u001b[0m\n\u001b[0m\u001b[0;32m   5285\u001b[0m \u001b[1;33m\u001b[0m\u001b[0m\n\u001b[0;32m   5286\u001b[0m             \u001b[1;31m# need to rewrap columns in Series to apply key function\u001b[0m\u001b[1;33m\u001b[0m\u001b[1;33m\u001b[0m\u001b[1;33m\u001b[0m\u001b[0m\n",
      "\u001b[1;32m~\\anaconda3\\envs\\GPU_ENVI\\lib\\site-packages\\pandas\\core\\frame.py\u001b[0m in \u001b[0;36m<listcomp>\u001b[1;34m(.0)\u001b[0m\n\u001b[0;32m   5282\u001b[0m             \u001b[1;32mfrom\u001b[0m \u001b[0mpandas\u001b[0m\u001b[1;33m.\u001b[0m\u001b[0mcore\u001b[0m\u001b[1;33m.\u001b[0m\u001b[0msorting\u001b[0m \u001b[1;32mimport\u001b[0m \u001b[0mlexsort_indexer\u001b[0m\u001b[1;33m\u001b[0m\u001b[1;33m\u001b[0m\u001b[0m\n\u001b[0;32m   5283\u001b[0m \u001b[1;33m\u001b[0m\u001b[0m\n\u001b[1;32m-> 5284\u001b[1;33m             \u001b[0mkeys\u001b[0m \u001b[1;33m=\u001b[0m \u001b[1;33m[\u001b[0m\u001b[0mself\u001b[0m\u001b[1;33m.\u001b[0m\u001b[0m_get_label_or_level_values\u001b[0m\u001b[1;33m(\u001b[0m\u001b[0mx\u001b[0m\u001b[1;33m,\u001b[0m \u001b[0maxis\u001b[0m\u001b[1;33m=\u001b[0m\u001b[0maxis\u001b[0m\u001b[1;33m)\u001b[0m \u001b[1;32mfor\u001b[0m \u001b[0mx\u001b[0m \u001b[1;32min\u001b[0m \u001b[0mby\u001b[0m\u001b[1;33m]\u001b[0m\u001b[1;33m\u001b[0m\u001b[1;33m\u001b[0m\u001b[0m\n\u001b[0m\u001b[0;32m   5285\u001b[0m \u001b[1;33m\u001b[0m\u001b[0m\n\u001b[0;32m   5286\u001b[0m             \u001b[1;31m# need to rewrap columns in Series to apply key function\u001b[0m\u001b[1;33m\u001b[0m\u001b[1;33m\u001b[0m\u001b[1;33m\u001b[0m\u001b[0m\n",
      "\u001b[1;32m~\\anaconda3\\envs\\GPU_ENVI\\lib\\site-packages\\pandas\\core\\generic.py\u001b[0m in \u001b[0;36m_get_label_or_level_values\u001b[1;34m(self, key, axis)\u001b[0m\n\u001b[0;32m   1561\u001b[0m             \u001b[0mvalues\u001b[0m \u001b[1;33m=\u001b[0m \u001b[0mself\u001b[0m\u001b[1;33m.\u001b[0m\u001b[0maxes\u001b[0m\u001b[1;33m[\u001b[0m\u001b[0maxis\u001b[0m\u001b[1;33m]\u001b[0m\u001b[1;33m.\u001b[0m\u001b[0mget_level_values\u001b[0m\u001b[1;33m(\u001b[0m\u001b[0mkey\u001b[0m\u001b[1;33m)\u001b[0m\u001b[1;33m.\u001b[0m\u001b[0m_values\u001b[0m\u001b[1;33m\u001b[0m\u001b[1;33m\u001b[0m\u001b[0m\n\u001b[0;32m   1562\u001b[0m         \u001b[1;32melse\u001b[0m\u001b[1;33m:\u001b[0m\u001b[1;33m\u001b[0m\u001b[1;33m\u001b[0m\u001b[0m\n\u001b[1;32m-> 1563\u001b[1;33m             \u001b[1;32mraise\u001b[0m \u001b[0mKeyError\u001b[0m\u001b[1;33m(\u001b[0m\u001b[0mkey\u001b[0m\u001b[1;33m)\u001b[0m\u001b[1;33m\u001b[0m\u001b[1;33m\u001b[0m\u001b[0m\n\u001b[0m\u001b[0;32m   1564\u001b[0m \u001b[1;33m\u001b[0m\u001b[0m\n\u001b[0;32m   1565\u001b[0m         \u001b[1;31m# Check for duplicates\u001b[0m\u001b[1;33m\u001b[0m\u001b[1;33m\u001b[0m\u001b[1;33m\u001b[0m\u001b[0m\n",
      "\u001b[1;31mKeyError\u001b[0m: 'rate'"
     ]
    }
   ],
   "source": [
    "Track_df['rate']=0\n",
    "engine = MyKnowladge()\n",
    "engine.reset()\n",
    "engine.run()"
   ]
  },
  {
   "cell_type": "code",
   "execution_count": null,
   "id": "educated-camcorder",
   "metadata": {},
   "outputs": [],
   "source": []
  },
  {
   "cell_type": "code",
   "execution_count": null,
   "id": "direct-petroleum",
   "metadata": {},
   "outputs": [],
   "source": []
  }
 ],
 "metadata": {
  "kernelspec": {
   "display_name": "Python 3",
   "language": "python",
   "name": "python3"
  },
  "language_info": {
   "codemirror_mode": {
    "name": "ipython",
    "version": 3
   },
   "file_extension": ".py",
   "mimetype": "text/x-python",
   "name": "python",
   "nbconvert_exporter": "python",
   "pygments_lexer": "ipython3",
   "version": "3.6.13"
  }
 },
 "nbformat": 4,
 "nbformat_minor": 5
}
